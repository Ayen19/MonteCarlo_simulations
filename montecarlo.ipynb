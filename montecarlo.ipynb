{
 "cells": [
  {
   "cell_type": "code",
   "execution_count": 3,
   "id": "5b76375d-0bc1-4470-918a-d95ecf5a3951",
   "metadata": {},
   "outputs": [],
   "source": [
    "import numpy as np\n",
    "import random as random\n",
    "import math as math"
   ]
  },
  {
   "cell_type": "markdown",
   "id": "6228478d-24c1-4589-9c50-469de1f4bd79",
   "metadata": {},
   "source": [
    "## 1a) Evaluate the following integrals by the Monte Carlo method\n",
    "- I1= ∫〖e^x dx〗 from x=0 to x=1\n",
    "- I2= ∫(1-x^2 )^2  dx    from x-0 to x=5\n"
   ]
  },
  {
   "cell_type": "code",
   "execution_count": 4,
   "id": "87b6aae4-e3fa-42c0-9683-5a9d247aeae5",
   "metadata": {},
   "outputs": [],
   "source": [
    "#Define the function \n",
    "def f1(x): \n",
    "    return math.exp(x) "
   ]
  },
  {
   "cell_type": "code",
   "execution_count": 5,
   "id": "e1cdd899-c7c3-43f1-8c84-b25c445e67b1",
   "metadata": {},
   "outputs": [],
   "source": [
    "def f2(x): \n",
    "    return np.square(1-np.square(x))"
   ]
  },
  {
   "cell_type": "code",
   "execution_count": 6,
   "id": "a566fa68-a100-4cd8-8da8-38ccc6ca4f9d",
   "metadata": {},
   "outputs": [],
   "source": [
    "# define the number of samples and the upper and lower limits of the integrals\n",
    "\n",
    "a1, a2 = 0,0\n",
    "b1=1\n",
    "b2=5\n",
    "samples= 1000000"
   ]
  },
  {
   "cell_type": "code",
   "execution_count": 7,
   "id": "75a1a544-150e-42a6-a7b4-984b62d31454",
   "metadata": {},
   "outputs": [],
   "source": [
    "# sample random numbers from a uniform distribution within the integration limits\n",
    "\n",
    "points1 = [random.uniform(a1, b1) for _ in range(samples)]\n",
    "points2=[random.uniform(a2, b2) for _ in range(samples)]\n"
   ]
  },
  {
   "cell_type": "code",
   "execution_count": 8,
   "id": "15b824da-ea1e-4cc8-898b-dcc006aea081",
   "metadata": {},
   "outputs": [
    {
     "name": "stdout",
     "output_type": "stream",
     "text": [
      "Estimated Integral f1: 1.7176278008723802\n",
      "Estimated Integral f2: 546.7242080023192\n"
     ]
    }
   ],
   "source": [
    "# Evaluate the integral estimate by summing all results from inputing the sample to the function and averaging it, \n",
    "#and multiplying it by the integral width\n",
    "\n",
    "integral_estimatef1 = (b1 - a1) * sum(f1(x) for x in points1) / samples\n",
    "\n",
    "integral_estimatef2 = (b2 - a2) * sum(f2(x) for x in points2) / samples\n",
    "\n",
    "print(\"Estimated Integral f1:\", integral_estimatef1)\n",
    "print(\"Estimated Integral f2:\", integral_estimatef2)"
   ]
  },
  {
   "cell_type": "markdown",
   "id": "1fb1ddd7-87b8-4e3a-997c-a94d08e118f2",
   "metadata": {},
   "source": [
    "## 1b) Integrating by the regular method\n",
    "- I1= ∫〖e^x dx〗 from x=0 to x=1\n",
    "- I2= ∫(1-x^2 )^2  dx    from x-0 to x=5\n"
   ]
  },
  {
   "cell_type": "code",
   "execution_count": 9,
   "id": "7164f221-440f-4023-a785-9ab9346ee282",
   "metadata": {},
   "outputs": [
    {
     "name": "stdout",
     "output_type": "stream",
     "text": [
      "computed Integral f1: 1.7182818284590453\n",
      "computed Integral f2: 546.6666666666667\n"
     ]
    }
   ],
   "source": [
    "#Using the build in function from scipy integrate module\n",
    "\n",
    "from scipy.integrate import quad\n",
    "\n",
    "integralf1, _ = quad(f1, a1, b1)\n",
    "integralf2, _ = quad(f2, a2, b2)\n",
    "print(\"computed Integral f1:\", integralf1)\n",
    "print(\"computed Integral f2:\", integralf2)\n"
   ]
  },
  {
   "cell_type": "markdown",
   "id": "013b4d5f-0cba-43e3-bb11-e5aaad41d4d6",
   "metadata": {},
   "source": [
    "### 1c)\tCompare the areas obtained by method a) and b).  If there is a discrepancy, explain the results\n",
    "\n",
    "There is a discrepancy between the two methods of obtaining the area. Monte carlo is a stochastic method and so the results are an estimation. They converge to a certain value based on the number of samples taken, and the estimate is more accurate when more samples are taken. The smaller integral witdth gives a more accurate value than the larger integral width because the smaller range means there is more refined/higher resolution samples and less variance in the samples"
   ]
  },
  {
   "cell_type": "markdown",
   "id": "e1338edd-1ea0-4b6b-a7e6-0346b0eb8601",
   "metadata": {},
   "source": [
    "## 2 Evaluate the following integral by Monte Carlo Integration and Reimann sum (using mid-value ) implementation.\n",
    " \n",
    " ∫(e^(-0.5((x-µ)/ σ )^2))  dx    from x= -infintity to x=+infinity\n",
    " \n",
    "- (a)For µ=0, σ = 1\n",
    "- (b)For µ=10, σ = 4\n",
    " \n"
   ]
  },
  {
   "cell_type": "code",
   "execution_count": 10,
   "id": "072e09ab-6c28-4bda-b3a3-314dd1e6a32b",
   "metadata": {},
   "outputs": [],
   "source": [
    "#define the funtion\n",
    "def f3(x,mu,sigma):\n",
    "    exponent = -0.5 * ((x - mu) / sigma) ** 2\n",
    "    result = np.exp(exponent)\n",
    "    return result"
   ]
  },
  {
   "cell_type": "code",
   "execution_count": 11,
   "id": "5d6a486e-f1a8-42cc-b02e-78843a370ff4",
   "metadata": {},
   "outputs": [],
   "source": [
    "# sample Parameters of the normal distribution ,samplesc2\n",
    "mu = 0.0  # Mean\n",
    "sigma = 1.0  # Standard deviation\n",
    "\n",
    "# Define the range for Monte Carlo estimation\n",
    "lower_limit = -10**6\n",
    "upper_limit = 10**6\n",
    "\n",
    "# Number of samples\n",
    "num_samples = 100000\n",
    "\n",
    "# Generate random samples from the normal distribution\n",
    "\n",
    "##samples = np.random.normal(mu, sigma, num_samples)\n",
    "samplesc2 = [random.normalvariate(mu, sigma) for _ in range(num_samples)]\n"
   ]
  },
  {
   "cell_type": "code",
   "execution_count": null,
   "id": "e2a09168-b12c-4527-91e9-f8b270079fc5",
   "metadata": {},
   "outputs": [
    {
     "data": {
      "text/plain": [
       "'\\n# sample random numbers from a laplace distribution within the infinity range (in this case i choose a large range)\\n\\n\\n# Number of samples\\nsamplesc = 100000\\n\\n# Parameters of the Laplace distribution\\nmu = 0.0  # Center of the distribution\\nscale = 1.0  # Scale parameter\\n\\n# Define the range for Monte Carlo estimation\\nlower_limit = -10**6\\nupper_limit = 10**6\\n\\n# Number of samples\\nnum_samples = 100000\\n\\n# Generate random samples from the Laplace distribution\\nsamples = np.random.laplace(loc=mu, scale=scale, size=num_samples)\\n\\n# Filter out samples that fall outside the specified range\\nsamplesc3 = samples[(samples >= lower_limit) & (samples <= upper_limit)]\\n'"
      ]
     },
     "execution_count": 51,
     "metadata": {},
     "output_type": "execute_result"
    }
   ],
   "source": [
    "\"\"\"\n",
    "# sample random numbers from a laplace distribution within the infinity range (in this case i choose a large range)\n",
    "\n",
    "\n",
    "# Number of samples\n",
    "samplesc = 100000\n",
    "\n",
    "# Parameters of the Laplace distribution\n",
    "mu = 0.0  # Center of the distribution\n",
    "scale = 1.0  # Scale parameter\n",
    "\n",
    "# Define the range for Monte Carlo estimation\n",
    "lower_limit = -10**6\n",
    "upper_limit = 10**6\n",
    "\n",
    "# Number of samples\n",
    "num_samples = 100000\n",
    "\n",
    "# Generate random samples from the Laplace distribution\n",
    "samples = np.random.laplace(loc=mu, scale=scale, size=num_samples)\n",
    "\n",
    "# Filter out samples that fall outside the specified range\n",
    "samplesc3 = samples[(samples >= lower_limit) & (samples <= upper_limit)]\n",
    "\"\"\"\n"
   ]
  },
  {
   "cell_type": "code",
   "execution_count": 52,
   "id": "3d707d37-e6fb-49c5-8fa5-28769cf33c38",
   "metadata": {},
   "outputs": [
    {
     "data": {
      "text/plain": [
       "'\\n# Sampling parameters from a uniform distribution\\nlower_limit= -10**6\\nupper_limit = 10**6\\n\\n# Number of samples\\nnum_samples = 100000\\n\\n# Generate random samples over the chosen range from uniform distribution\\nsamplesc1 = [random.uniform(lower_limit, upper_limit) for _ in range(num_samples)]\\n'"
      ]
     },
     "execution_count": 52,
     "metadata": {},
     "output_type": "execute_result"
    }
   ],
   "source": [
    "'''\n",
    "# Sampling parameters from a uniform distribution\n",
    "lower_limit= -10**6\n",
    "upper_limit = 10**6\n",
    "\n",
    "# Number of samples\n",
    "num_samples = 100000\n",
    "\n",
    "# Generate random samples over the chosen range from uniform distribution\n",
    "samplesc1 = [random.uniform(lower_limit, upper_limit) for _ in range(num_samples)]\n",
    "'''"
   ]
  },
  {
   "cell_type": "code",
   "execution_count": 17,
   "id": "38cca94c-2d8c-4548-9925-d8b73f9ae679",
   "metadata": {},
   "outputs": [
    {
     "name": "stdout",
     "output_type": "stream",
     "text": [
      "integral estimate when µ=0, σ = 1 is:  1.4134878004892248\n"
     ]
    }
   ],
   "source": [
    "# Evaluate the integral estimate by summing all results from inputing the sample to the function and averaging it, \n",
    "#and multiplying it by the integral width(in this case since it is a gaussian distribution, the width is approx 2*sigma\n",
    "\n",
    "#integral estimate  For µ=0, σ = 1\n",
    "\n",
    "mu = 0.0  # Mean\n",
    "sigma = 1.0  # Standard deviation\n",
    "\n",
    "integral_estimatef3 = 2*sigma * sum(f3(x,mu, sigma) for x in samplesc2) / num_samples\n",
    "\n",
    "print(\"integral estimate when µ=0, σ = 1 is: \",integral_estimatef3)\n"
   ]
  },
  {
   "cell_type": "code",
   "execution_count": 16,
   "id": "1320a7e8-3811-48f3-b259-99c2e29dde9c",
   "metadata": {},
   "outputs": [
    {
     "name": "stdout",
     "output_type": "stream",
     "text": [
      "integral estimate when µ=10, σ = 4 is:  0.4097025586192073\n"
     ]
    }
   ],
   "source": [
    "# Evaluate the integral estimate by summing all results from inputing the sample to the function and averaging it, \n",
    "#and multiplying it by the integral width(in this case since it is a gaussian distribution, the width is approx 2*sigma\n",
    "\n",
    "#integral estimate  For µ=0, σ = 1\n",
    "\n",
    "\n",
    "mu2 = 10.0  # Mean\n",
    "sigma2 = 4.0  # Standard deviation\n",
    "\n",
    "integral_estimatef3_ = 2* sigma2 * sum(f3(x,mu2, sigma2) for x in samplesc2) / num_samples\n",
    "print(\"integral estimate when µ=10, σ = 4 is: \",integral_estimatef3_)"
   ]
  },
  {
   "cell_type": "markdown",
   "id": "0d58e9d7-f54b-4167-aa36-a20ae52cd98f",
   "metadata": {},
   "source": [
    "### Evaluating using Reimann Sum \n",
    " Reimann sum divides the curve into rectangles a finite number of rectangles to approximate the value of a given definite integral. We can define the Riemann sum as the sum of these \n",
    " rectangles’ areas."
   ]
  },
  {
   "cell_type": "code",
   "execution_count": 20,
   "id": "dcad880a-bbcc-491a-b805-b6fa82933136",
   "metadata": {},
   "outputs": [
    {
     "name": "stdout",
     "output_type": "stream",
     "text": [
      "Riemann Sum Estimate when µ=0, σ = 1 is : 2.5066282746310007\n",
      "Riemann Sum Estimate when µ=10, σ = 4 is : 10.026513098524001\n"
     ]
    }
   ],
   "source": [
    "\n",
    "# Calculate the step size\n",
    "num_partitions=100000000\n",
    "a=lower_limit\n",
    "b=upper_limit\n",
    "\n",
    "#a=-1\n",
    "#b=1\n",
    "\n",
    "dx = (b - a) / num_partitions\n",
    "\n",
    "# Midpoints of the sub intervals\n",
    "midpoints = np.linspace(a + dx/2, b - dx/2, num_partitions)\n",
    "x=midpoints\n",
    "\n",
    "# Calculate the Riemann sum using the midpoint rule\n",
    "riemann_sum = np.sum(f3(x,mu, sigma) * dx)\n",
    "\n",
    "\n",
    "\n",
    "#a=6\n",
    "#b=14\n",
    "\n",
    "dx = (b - a) / num_partitions\n",
    "# Midpoints of the sub intervals\n",
    "midpoints = np.linspace(a + dx/2, b - dx/2, num_partitions)\n",
    "x=midpoints\n",
    "\n",
    "# Calculate the Riemann sum using the midpoint rule\n",
    "riemann_sum_ = np.sum(f3(x,mu2, sigma2) * dx)\n",
    "\n",
    "\n",
    "print(\"Riemann Sum Estimate when µ=0, σ = 1 is :\", riemann_sum)\n",
    "print(\"Riemann Sum Estimate when µ=10, σ = 4 is :\", riemann_sum_)"
   ]
  },
  {
   "cell_type": "markdown",
   "id": "b7f1b40c-2f9e-4ad5-87e1-5fc09b850321",
   "metadata": {},
   "source": [
    "## Playground stuff\n",
    "\n"
   ]
  },
  {
   "cell_type": "code",
   "execution_count": null,
   "id": "69f5b6c3-ad3d-4d9f-bee5-f487af714194",
   "metadata": {},
   "outputs": [],
   "source": []
  },
  {
   "cell_type": "code",
   "execution_count": null,
   "id": "0f41151b-c685-445a-9e76-f7aca38d3198",
   "metadata": {},
   "outputs": [],
   "source": []
  }
 ],
 "metadata": {
  "kernelspec": {
   "display_name": "Python 3 (ipykernel)",
   "language": "python",
   "name": "python3"
  },
  "language_info": {
   "codemirror_mode": {
    "name": "ipython",
    "version": 3
   },
   "file_extension": ".py",
   "mimetype": "text/x-python",
   "name": "python",
   "nbconvert_exporter": "python",
   "pygments_lexer": "ipython3",
   "version": "3.10.9"
  }
 },
 "nbformat": 4,
 "nbformat_minor": 5
}
